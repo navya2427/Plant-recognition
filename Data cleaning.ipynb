{
 "cells": [
  {
   "cell_type": "code",
   "execution_count": 2,
   "id": "8a0eb42d",
   "metadata": {},
   "outputs": [
    {
     "name": "stdout",
     "output_type": "stream",
     "text": [
      "Requirement already satisfied: imageio in c:\\users\\navya\\anaconda3\\anaconda\\lib\\site-packages (2.9.0)\n",
      "Requirement already satisfied: numpy in c:\\users\\navya\\anaconda3\\anaconda\\lib\\site-packages (from imageio) (1.20.3)\n",
      "Requirement already satisfied: pillow in c:\\users\\navya\\anaconda3\\anaconda\\lib\\site-packages (from imageio) (8.4.0)\n",
      "Note: you may need to restart the kernel to use updated packages.\n"
     ]
    }
   ],
   "source": [
    "pip install imageio"
   ]
  },
  {
   "cell_type": "code",
   "execution_count": 9,
   "id": "2ede24b1",
   "metadata": {},
   "outputs": [
    {
     "name": "stdout",
     "output_type": "stream",
     "text": [
      "Collecting opencv-python\n",
      "  Downloading opencv_python-4.5.5.64-cp36-abi3-win_amd64.whl (35.4 MB)\n",
      "Requirement already satisfied: numpy>=1.17.3 in c:\\users\\navya\\anaconda3\\anaconda\\lib\\site-packages (from opencv-python) (1.20.3)\n",
      "Installing collected packages: opencv-python\n",
      "Successfully installed opencv-python-4.5.5.64\n",
      "Note: you may need to restart the kernel to use updated packages.\n"
     ]
    }
   ],
   "source": [
    "pip install opencv-python"
   ]
  },
  {
   "cell_type": "code",
   "execution_count": 20,
   "id": "25328ba1",
   "metadata": {},
   "outputs": [
    {
     "name": "stdout",
     "output_type": "stream",
     "text": [
      "Collecting hashinNote: you may need to restart the kernel to use updated packages.\n",
      "  Downloading hashin-0.17.0-py2.py3-none-any.whl (16 kB)\n",
      "Requirement already satisfied: packaging in c:\\users\\navya\\anaconda3\\anaconda\\lib\\site-packages (from hashin) (21.0)\n",
      "Collecting pip-api\n",
      "  Downloading pip_api-0.0.29-py3-none-any.whl (111 kB)\n",
      "Requirement already satisfied: pyparsing>=2.0.2 in c:\\users\\navya\\anaconda3\\anaconda\\lib\\site-packages (from packaging->hashin) (3.0.4)\n",
      "Requirement already satisfied: pip in c:\\users\\navya\\anaconda3\\anaconda\\lib\\site-packages (from pip-api->hashin) (21.2.4)\n",
      "Installing collected packages: pip-api, hashin\n",
      "\n",
      "Successfully installed hashin-0.17.0 pip-api-0.0.29\n"
     ]
    }
   ],
   "source": [
    "pip install hashin"
   ]
  },
  {
   "cell_type": "code",
   "execution_count": 29,
   "id": "3c42ffee",
   "metadata": {},
   "outputs": [],
   "source": [
    "import cv2"
   ]
  },
  {
   "cell_type": "code",
   "execution_count": 30,
   "id": "9799ff00",
   "metadata": {},
   "outputs": [],
   "source": [
    "import imageio"
   ]
  },
  {
   "cell_type": "code",
   "execution_count": 31,
   "id": "3f57db38",
   "metadata": {},
   "outputs": [],
   "source": [
    "import hashlib\n",
    "from imageio import imread\n",
    "import matplotlib.pyplot as plt\n",
    "import matplotlib.gridspec as gridspec\n",
    "%matplotlib inline\n",
    "import time\n",
    "import numpy as np"
   ]
  },
  {
   "cell_type": "code",
   "execution_count": 32,
   "id": "3ef7ebef",
   "metadata": {},
   "outputs": [],
   "source": [
    "def file_hash(filepath):\n",
    "    with open(filepath, 'rb') as f:\n",
    "        return md5(f.read()).heaxdigest()"
   ]
  },
  {
   "cell_type": "code",
   "execution_count": 33,
   "id": "bff570dd",
   "metadata": {},
   "outputs": [
    {
     "data": {
      "text/plain": [
       "'D:\\\\M.Sc. DSSA\\\\SEM 2\\\\Machine learning\\\\PROJECT\\\\Mentha'"
      ]
     },
     "execution_count": 33,
     "metadata": {},
     "output_type": "execute_result"
    }
   ],
   "source": [
    "import os\n",
    "os.getcwd()"
   ]
  },
  {
   "cell_type": "code",
   "execution_count": 34,
   "id": "0fcc9500",
   "metadata": {},
   "outputs": [
    {
     "data": {
      "text/plain": [
       "'D:\\\\M.Sc. DSSA\\\\SEM 2\\\\Machine learning\\\\PROJECT\\\\Withania'"
      ]
     },
     "execution_count": 34,
     "metadata": {},
     "output_type": "execute_result"
    }
   ],
   "source": [
    "os.chdir(r'D:\\M.Sc. DSSA\\SEM 2\\Machine learning\\PROJECT\\Withania')\n",
    "os.getcwd()"
   ]
  },
  {
   "cell_type": "code",
   "execution_count": 35,
   "id": "7e679cc4",
   "metadata": {},
   "outputs": [
    {
     "name": "stdout",
     "output_type": "stream",
     "text": [
      "323\n"
     ]
    }
   ],
   "source": [
    "file_list = os.listdir()\n",
    "print((len(file_list)))"
   ]
  },
  {
   "cell_type": "code",
   "execution_count": 36,
   "id": "32d75d1e",
   "metadata": {},
   "outputs": [],
   "source": [
    "import hashlib,os\n",
    "duplicates = []\n",
    "hash_keys = dict()\n",
    "for index,filename in enumerate(os.listdir('.')):\n",
    "    if os.path.isfile(filename):\n",
    "        with open(filename, 'rb') as f:\n",
    "            filehash = hashlib.md5(f.read()).hexdigest()\n",
    "        if filehash not in hash_keys:\n",
    "            hash_keys[filehash]=index\n",
    "        else:\n",
    "            duplicates.append((index, hash_keys[filehash]))"
   ]
  },
  {
   "cell_type": "code",
   "execution_count": 38,
   "id": "1b50859c",
   "metadata": {},
   "outputs": [],
   "source": [
    "for file_indexes in duplicates:\n",
    "    try:\n",
    "        plt.subplot(121),plt.imshow(imread(file_list[file_indexes[1]]))\n",
    "        plt.title(file_indexes[1]),plt.xticks([]),plt.yticks([])\n",
    "        plt.subplot(122),plt.imshow(imread(file_list[file_indexes[0]]))\n",
    "        plt.title(str(file_indexes[0])+ 'duplicate'),plt.xticks([]),plt.yticks([])\n",
    "        plt.show()\n",
    "    except OSError as e:\n",
    "        continue"
   ]
  },
  {
   "cell_type": "code",
   "execution_count": 39,
   "id": "dc2017ef",
   "metadata": {},
   "outputs": [],
   "source": [
    "for index in duplicates:\n",
    "    os.remove(file_list[index[0]])"
   ]
  },
  {
   "cell_type": "code",
   "execution_count": null,
   "id": "826f3366",
   "metadata": {},
   "outputs": [],
   "source": []
  },
  {
   "cell_type": "code",
   "execution_count": null,
   "id": "e52a5aae",
   "metadata": {},
   "outputs": [],
   "source": []
  },
  {
   "cell_type": "code",
   "execution_count": null,
   "id": "e8b11622",
   "metadata": {},
   "outputs": [],
   "source": []
  },
  {
   "cell_type": "code",
   "execution_count": null,
   "id": "ac945014",
   "metadata": {},
   "outputs": [],
   "source": []
  },
  {
   "cell_type": "code",
   "execution_count": null,
   "id": "64d2b5a0",
   "metadata": {},
   "outputs": [],
   "source": []
  },
  {
   "cell_type": "code",
   "execution_count": null,
   "id": "0118d358",
   "metadata": {},
   "outputs": [],
   "source": []
  },
  {
   "cell_type": "code",
   "execution_count": null,
   "id": "db9b3cf4",
   "metadata": {},
   "outputs": [],
   "source": []
  },
  {
   "cell_type": "code",
   "execution_count": null,
   "id": "bbbaa1a6",
   "metadata": {},
   "outputs": [],
   "source": []
  }
 ],
 "metadata": {
  "kernelspec": {
   "display_name": "Python 3 (ipykernel)",
   "language": "python",
   "name": "python3"
  },
  "language_info": {
   "codemirror_mode": {
    "name": "ipython",
    "version": 3
   },
   "file_extension": ".py",
   "mimetype": "text/x-python",
   "name": "python",
   "nbconvert_exporter": "python",
   "pygments_lexer": "ipython3",
   "version": "3.9.7"
  }
 },
 "nbformat": 4,
 "nbformat_minor": 5
}
